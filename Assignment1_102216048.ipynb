{
  "nbformat": 4,
  "nbformat_minor": 0,
  "metadata": {
    "colab": {
      "provenance": [],
      "authorship_tag": "ABX9TyPEfZT4Wc247viMnDTULJ/i",
      "include_colab_link": true
    },
    "kernelspec": {
      "name": "python3",
      "display_name": "Python 3"
    },
    "language_info": {
      "name": "python"
    }
  },
  "cells": [
    {
      "cell_type": "markdown",
      "metadata": {
        "id": "view-in-github",
        "colab_type": "text"
      },
      "source": [
        "<a href=\"https://colab.research.google.com/github/pradyumn07/ML_Assignment/blob/main/Assignment1_102216048.ipynb\" target=\"_parent\"><img src=\"https://colab.research.google.com/assets/colab-badge.svg\" alt=\"Open In Colab\"/></a>"
      ]
    },
    {
      "cell_type": "markdown",
      "source": [
        "Q.1.\n"
      ],
      "metadata": {
        "id": "uOadyy_4Cfej"
      }
    },
    {
      "cell_type": "code",
      "execution_count": null,
      "metadata": {
        "colab": {
          "base_uri": "https://localhost:8080/"
        },
        "id": "0cLnTfHXAOl4",
        "outputId": "043a81d1-814a-4fac-97bf-e34ec006314e"
      },
      "outputs": [
        {
          "output_type": "stream",
          "name": "stdout",
          "text": [
            "[5 4 3 2 1]\n"
          ]
        }
      ],
      "source": [
        "import numpy as np\n",
        "arr=np.array([1,2,3,4,5])\n",
        "arr_rev=np.flip(arr)\n",
        "print(arr_rev)"
      ]
    },
    {
      "cell_type": "code",
      "source": [
        "import numpy as np\n",
        "array1=np.array([[1,2,3],[2,4,5],[1,2,3]])\n",
        "array1=array1.ravel()\n",
        "print(array1)"
      ],
      "metadata": {
        "colab": {
          "base_uri": "https://localhost:8080/"
        },
        "id": "G5aab27pBYFG",
        "outputId": "55c061a0-5cd9-4e4c-ad9b-6dbeddc35327"
      },
      "execution_count": null,
      "outputs": [
        {
          "output_type": "stream",
          "name": "stdout",
          "text": [
            "[1 2 3 2 4 5 1 2 3]\n"
          ]
        }
      ]
    },
    {
      "cell_type": "code",
      "source": [
        "import numpy as np\n",
        "array1 = np.array([[1, 2, 3], [2, 4, 5], [1, 2, 3]])\n",
        "array1=array1.flatten()\n",
        "print(array1)"
      ],
      "metadata": {
        "colab": {
          "base_uri": "https://localhost:8080/"
        },
        "id": "BxVF7mJHAuIV",
        "outputId": "859aec95-419c-43f9-c6cd-860fd2c57667"
      },
      "execution_count": null,
      "outputs": [
        {
          "output_type": "stream",
          "name": "stdout",
          "text": [
            "[1 2 3 2 4 5 1 2 3]\n"
          ]
        }
      ]
    },
    {
      "cell_type": "code",
      "source": [
        "import numpy as np\n",
        "arr1 = np.array([[1, 2], [3, 4]])\n",
        "arr2 = np.array([[1, 2], [3, 4]])\n",
        "equal = np.array_equal(arr1, arr2)\n",
        "print(\"Arrays are equal:\",equal)"
      ],
      "metadata": {
        "colab": {
          "base_uri": "https://localhost:8080/"
        },
        "id": "EwyqVirm6Mta",
        "outputId": "d5461596-8688-4eb5-b06f-92ede897cff8"
      },
      "execution_count": null,
      "outputs": [
        {
          "output_type": "stream",
          "name": "stdout",
          "text": [
            "Arrays are equal: True\n"
          ]
        }
      ]
    },
    {
      "cell_type": "code",
      "source": [
        "import numpy as np\n",
        "\n",
        "x=np.array([1,2,3,4,5,1,2,1,1,1])\n",
        "most_frequent_value_x=np.bincount(x).argmax()\n",
        "indices_x = np.where(x == most_frequent_value_x)[0]\n",
        "\n",
        "print(f\"Most frequent value in x: {most_frequent_value_x}\")\n",
        "print(f\"Indices of the most frequent value in x: {indices_x}\")\n"
      ],
      "metadata": {
        "colab": {
          "base_uri": "https://localhost:8080/"
        },
        "id": "F1UF2NfvB9Om",
        "outputId": "1c595f0a-9f62-4ddd-a904-5e256ad41a5d"
      },
      "execution_count": null,
      "outputs": [
        {
          "output_type": "stream",
          "name": "stdout",
          "text": [
            "Most frequent value in x: 1\n",
            "Indices of the most frequent value in x: [0 5 7 8 9]\n"
          ]
        }
      ]
    },
    {
      "cell_type": "code",
      "source": [
        "import numpy as np\n",
        "gfg = np.matrix('[4, 1, 9; 12, 3, 1; 4, 5, 6]')\n",
        "\n",
        "# i. Sum of all elements\n",
        "total_sum = np.sum(gfg)\n",
        "\n",
        "# ii. Sum of all elements row-wise\n",
        "row_wise_sum = np.sum(gfg, axis=1)\n",
        "\n",
        "# iii. Sum of all elements column-wise\n",
        "column_wise_sum = np.sum(gfg, axis=0)\n",
        "\n",
        "print(\"Sum of all elements:\", total_sum)\n",
        "print(\"Sum of all elements row-wise:\", row_wise_sum)\n",
        "print(\"Sum of all elements column-wise:\", column_wise_sum)\n"
      ],
      "metadata": {
        "colab": {
          "base_uri": "https://localhost:8080/"
        },
        "id": "caz9Mt7p6ktQ",
        "outputId": "5c396ff4-fe23-4b30-9888-bed6a327f8c1"
      },
      "execution_count": null,
      "outputs": [
        {
          "output_type": "stream",
          "name": "stdout",
          "text": [
            "Sum of all elements: 45\n",
            "Sum of all elements row-wise: [[14]\n",
            " [16]\n",
            " [15]]\n",
            "Sum of all elements column-wise: [[20  9 16]]\n"
          ]
        }
      ]
    },
    {
      "cell_type": "code",
      "source": [
        "import numpy as np\n",
        "n_array = np.array([[55, 25, 15],[30, 44, 2],[11, 45, 77]])\n",
        "\n",
        "# i. Sum of diagonal elements\n",
        "diagonal_sum = np.trace(n_array)\n",
        "\n",
        "# ii. Eigenvalues of the matrix\n",
        "eigenvalues = np.linalg.eigvals(n_array)\n",
        "\n",
        "# iii. Eigenvectors of the matrix\n",
        "eigenvalues, eigenvectors = np.linalg.eig(n_array)\n",
        "\n",
        "# iv. Inverse of the matrix\n",
        "inverse_matrix = np.linalg.inv(n_array)\n",
        "\n",
        "# v. Determinant of the matrix\n",
        "determinant = np.linalg.det(n_array)\n",
        "\n",
        "print(\"Sum of diagonal elements:\", diagonal_sum)\n",
        "print(\"Eigenvalues of the matrix:\", eigenvalues)\n",
        "print(\"Eigenvectors of the matrix:\\n\", eigenvectors)\n",
        "print(\"Inverse of the matrix:\\n\", inverse_matrix)\n",
        "print(\"Determinant of the matrix:\", determinant)\n"
      ],
      "metadata": {
        "colab": {
          "base_uri": "https://localhost:8080/"
        },
        "id": "GwaEerta671V",
        "outputId": "5f9b1b95-196f-4ea3-9a75-59b301f36541"
      },
      "execution_count": null,
      "outputs": [
        {
          "output_type": "stream",
          "name": "stdout",
          "text": [
            "Sum of diagonal elements: 176\n",
            "Eigenvalues of the matrix: [98.16835147 28.097044   49.73460452]\n",
            "Eigenvectors of the matrix:\n",
            " [[ 0.4574917   0.34637121 -0.15017693]\n",
            " [ 0.28447814 -0.72784061 -0.4852124 ]\n",
            " [ 0.84248058  0.59184038  0.8614034 ]]\n",
            "Inverse of the matrix:\n",
            " [[ 0.02404141 -0.00911212 -0.00444671]\n",
            " [-0.01667882  0.02966905  0.0024785 ]\n",
            " [ 0.00631287 -0.01603732  0.01217379]]\n",
            "Determinant of the matrix: 137180.0000000001\n"
          ]
        }
      ]
    },
    {
      "cell_type": "code",
      "source": [
        "import numpy as np\n",
        "p1 = np.array([[1, 2], [2, 3]])\n",
        "q1 = np.array([[4, 5], [6, 7]])\n",
        "result1 = np.dot(p1, q1)\n",
        "covariance1 = np.cov(p1.flatten(), q1.flatten())\n",
        "\n",
        "p2 = np.array([[1, 2], [2, 3], [4, 5]])\n",
        "q2 = np.array([[4, 5, 1], [6, 7, 2]])\n",
        "result2 = np.dot(p2, q2)\n",
        "covariance2 = np.cov(p2.flatten(), q2.flatten())\n",
        "print(\"i - Matrix multiplication:\\n\", result1)\n",
        "print(\"i - Covariance:\\n\", covariance1)\n",
        "print(\"ii - Matrix multiplication:\\n\", result2)\n",
        "print(\"ii - Covariance:\\n\", covariance2)\n"
      ],
      "metadata": {
        "colab": {
          "base_uri": "https://localhost:8080/"
        },
        "id": "XuThrQoD7Xsn",
        "outputId": "1dad3832-8df5-463d-fe6c-cac9fb0d2c30"
      },
      "execution_count": null,
      "outputs": [
        {
          "output_type": "stream",
          "name": "stdout",
          "text": [
            "i - Matrix multiplication:\n",
            " [[16 19]\n",
            " [26 31]]\n",
            "i - Covariance:\n",
            " [[0.66666667 1.        ]\n",
            " [1.         1.66666667]]\n",
            "ii - Matrix multiplication:\n",
            " [[16 19  5]\n",
            " [26 31  8]\n",
            " [46 55 14]]\n",
            "ii - Covariance:\n",
            " [[2.16666667 0.23333333]\n",
            " [0.23333333 5.36666667]]\n"
          ]
        }
      ]
    },
    {
      "cell_type": "code",
      "source": [
        "import numpy as np\n",
        "x = np.array([[2, 3, 4], [3, 2, 9]])\n",
        "y = np.array([[1, 5, 0], [5, 10, 3]])\n",
        "inner_product = np.inner(x, y)\n",
        "outer_product = np.outer(x, y)\n",
        "cartesian_product = np.array(np.meshgrid(x.flatten(), y.flatten())).T.reshape(-1, 2)\n",
        "print(\"Inner Product:\\n\", inner_product)\n",
        "print(\"Outer Product:\\n\", outer_product)\n",
        "print(\"Cartesian Product:\\n\", cartesian_product)\n"
      ],
      "metadata": {
        "colab": {
          "base_uri": "https://localhost:8080/"
        },
        "id": "GpY3ANyS75CQ",
        "outputId": "32f289c1-8fc2-41d3-ca37-9b0781c44dbb"
      },
      "execution_count": null,
      "outputs": [
        {
          "output_type": "stream",
          "name": "stdout",
          "text": [
            "Inner Product:\n",
            " [[17 52]\n",
            " [13 62]]\n",
            "Outer Product:\n",
            " [[ 2 10  0 10 20  6]\n",
            " [ 3 15  0 15 30  9]\n",
            " [ 4 20  0 20 40 12]\n",
            " [ 3 15  0 15 30  9]\n",
            " [ 2 10  0 10 20  6]\n",
            " [ 9 45  0 45 90 27]]\n",
            "Cartesian Product:\n",
            " [[ 2  1]\n",
            " [ 2  5]\n",
            " [ 2  0]\n",
            " [ 2  5]\n",
            " [ 2 10]\n",
            " [ 2  3]\n",
            " [ 3  1]\n",
            " [ 3  5]\n",
            " [ 3  0]\n",
            " [ 3  5]\n",
            " [ 3 10]\n",
            " [ 3  3]\n",
            " [ 4  1]\n",
            " [ 4  5]\n",
            " [ 4  0]\n",
            " [ 4  5]\n",
            " [ 4 10]\n",
            " [ 4  3]\n",
            " [ 3  1]\n",
            " [ 3  5]\n",
            " [ 3  0]\n",
            " [ 3  5]\n",
            " [ 3 10]\n",
            " [ 3  3]\n",
            " [ 2  1]\n",
            " [ 2  5]\n",
            " [ 2  0]\n",
            " [ 2  5]\n",
            " [ 2 10]\n",
            " [ 2  3]\n",
            " [ 9  1]\n",
            " [ 9  5]\n",
            " [ 9  0]\n",
            " [ 9  5]\n",
            " [ 9 10]\n",
            " [ 9  3]]\n"
          ]
        }
      ]
    },
    {
      "cell_type": "markdown",
      "source": [
        "Q.2."
      ],
      "metadata": {
        "id": "6I5tjd_-9PuI"
      }
    },
    {
      "cell_type": "code",
      "source": [
        "import numpy as np\n",
        "array = np.array([[1, -2, 3], [-4, 5, -6]])\n",
        "# i. Element-wise absolute value\n",
        "absolute_array = np.abs(array)\n",
        "print(\"Element-wise absolute value:\\n\", absolute_array)\n",
        "flattened_array = array.flatten()\n",
        "\n",
        "# ii. 25th, 50th and 75th Percentiles\n",
        "percentile_25_flattened = np.percentile(flattened_array, 25)\n",
        "percentile_50_flattened = np.percentile(flattened_array, 50)\n",
        "percentile_75_flattened = np.percentile(flattened_array, 75)\n",
        "\n",
        "percentile_25_columns = np.percentile(array, 25, axis=0)\n",
        "percentile_50_columns = np.percentile(array, 50, axis=0)\n",
        "percentile_75_columns = np.percentile(array, 75, axis=0)\n",
        "\n",
        "percentile_25_rows = np.percentile(array, 25, axis=1)\n",
        "percentile_50_rows = np.percentile(array, 50, axis=1)\n",
        "percentile_75_rows = np.percentile(array, 75, axis=1)\n",
        "\n",
        "print(\"\\n25th, 50th, 75th Percentiles(Flattened):\", percentile_25_flattened, percentile_50_flattened, percentile_75_flattened)\n",
        "print(\"25th, 50th, 75th Percentiles(Columns):\\n\", percentile_25_columns, percentile_50_columns, percentile_75_columns)\n",
        "print(\"25th, 50th, 75th Percentiles(Rows):\\n\", percentile_25_rows, percentile_50_rows, percentile_75_rows)\n",
        "\n",
        "# iii. Mean, Median and Standard Deviation\n",
        "mean_flattened = np.mean(flattened_array)\n",
        "median_flattened = np.median(flattened_array)\n",
        "std_flattened = np.std(flattened_array)\n",
        "\n",
        "mean_columns = np.mean(array, axis=0)\n",
        "median_columns = np.median(array, axis=0)\n",
        "std_columns = np.std(array, axis=0)\n",
        "\n",
        "mean_rows = np.mean(array, axis=1)\n",
        "median_rows = np.median(array, axis=1)\n",
        "std_rows = np.std(array, axis=1)\n",
        "\n",
        "print(\"\\nMean, Median, Standard Deviation (Flattened):\", mean_flattened, median_flattened, std_flattened)\n",
        "print(\"Mean, Median, Standard Deviation (Columns):\\n\", mean_columns, median_columns, std_columns)\n",
        "print(\"Mean, Median, Standard Deviation (Rows):\\n\", mean_rows, median_rows, std_rows)"
      ],
      "metadata": {
        "colab": {
          "base_uri": "https://localhost:8080/"
        },
        "id": "vWBUWKeB8c6O",
        "outputId": "d3b8d66a-09c0-4922-f449-43ecc2330919"
      },
      "execution_count": null,
      "outputs": [
        {
          "output_type": "stream",
          "name": "stdout",
          "text": [
            "Element-wise absolute value:\n",
            " [[1 2 3]\n",
            " [4 5 6]]\n",
            "\n",
            "25th, 50th, 75th Percentiles(Flattened): -3.5 -0.5 2.5\n",
            "25th, 50th, 75th Percentiles(Columns):\n",
            " [-2.75 -0.25 -3.75] [-1.5  1.5 -1.5] [-0.25  3.25  0.75]\n",
            "25th, 50th, 75th Percentiles(Rows):\n",
            " [-0.5 -5. ] [ 1. -4.] [2.  0.5]\n",
            "\n",
            "Mean, Median, Standard Deviation (Flattened): -0.5 -0.5 3.8622100754188224\n",
            "Mean, Median, Standard Deviation (Columns):\n",
            " [-1.5  1.5 -1.5] [-1.5  1.5 -1.5] [2.5 3.5 4.5]\n",
            "Mean, Median, Standard Deviation (Rows):\n",
            " [ 0.66666667 -1.66666667] [ 1. -4.] [2.05480467 4.78423336]\n"
          ]
        }
      ]
    },
    {
      "cell_type": "code",
      "source": [
        "import numpy as np\n",
        "a = np.array([-1.8, -1.6, -0.5, 0.5, 1.6, 1.8, 3.0])\n",
        "floor_values = np.floor(a)\n",
        "ceiling_values = np.ceil(a)\n",
        "truncated_values = np.trunc(a)\n",
        "rounded_values = np.round(a)\n",
        "print(\"Floor values:\", floor_values)\n",
        "print(\"Ceiling values:\", ceiling_values)\n",
        "print(\"Truncated values:\", truncated_values)\n",
        "print(\"Rounded values:\", rounded_values)"
      ],
      "metadata": {
        "colab": {
          "base_uri": "https://localhost:8080/"
        },
        "id": "4Kv18t2u89uI",
        "outputId": "b26f75b3-90db-4f7b-aca9-611e24240bbd"
      },
      "execution_count": null,
      "outputs": [
        {
          "output_type": "stream",
          "name": "stdout",
          "text": [
            "Floor values: [-2. -2. -1.  0.  1.  1.  3.]\n",
            "Ceiling values: [-1. -1. -0.  1.  2.  2.  3.]\n",
            "Truncated values: [-1. -1. -0.  0.  1.  1.  3.]\n",
            "Rounded values: [-2. -2. -0.  0.  2.  2.  3.]\n"
          ]
        }
      ]
    },
    {
      "cell_type": "markdown",
      "source": [
        "Q.3.\n",
        "(a)"
      ],
      "metadata": {
        "id": "fCN9Ay5f9KiH"
      }
    },
    {
      "cell_type": "code",
      "source": [
        "import numpy as np\n",
        "array = np.array([10, 52, 62, 16, 16, 54, 453])\n",
        "sorted_array = np.sort(array)\n",
        "sorted_indices = np.argsort(array)\n",
        "smallest_elements = np.sort(array)[:4]\n",
        "largest_elements = np.sort(array)[-5:]\n",
        "print(\"array:\", array)\n",
        "print(\"Sorted array:\", sorted_array)\n",
        "print(\"Indices of sorted array:\", sorted_indices)\n",
        "print(\"4 smallest elements:\", smallest_elements)\n",
        "print(\"5 largest elements:\", largest_elements)"
      ],
      "metadata": {
        "colab": {
          "base_uri": "https://localhost:8080/"
        },
        "id": "xQS32oQa9NcH",
        "outputId": "a538b32c-6211-4402-8832-b5aad5222880"
      },
      "execution_count": null,
      "outputs": [
        {
          "output_type": "stream",
          "name": "stdout",
          "text": [
            "array: [ 10  52  62  16  16  54 453]\n",
            "Sorted array: [ 10  16  16  52  54  62 453]\n",
            "Indices of sorted array: [0 3 4 1 5 2 6]\n",
            "4 smallest elements: [10 16 16 52]\n",
            "5 largest elements: [ 16  52  54  62 453]\n"
          ]
        }
      ]
    },
    {
      "cell_type": "markdown",
      "source": [
        "(b)\n"
      ],
      "metadata": {
        "id": "f2mt_xqZ9vg-"
      }
    },
    {
      "cell_type": "code",
      "source": [
        "import numpy as np\n",
        "array = np.array([1.0,1.2,2.2,2.0,3.0,2.0])\n",
        "integer_elements = array[array == np.floor(array)]\n",
        "float_elements = array[array != np.floor(array)]\n",
        "print(\"Integer elements only:\", integer_elements)\n",
        "print(\"Float elements only:\", float_elements)"
      ],
      "metadata": {
        "colab": {
          "base_uri": "https://localhost:8080/"
        },
        "id": "AD4n-bWf9xzk",
        "outputId": "0ffff964-28d7-43f8-dcd1-2dde372dacbc"
      },
      "execution_count": null,
      "outputs": [
        {
          "output_type": "stream",
          "name": "stdout",
          "text": [
            "Integer elements only: [1. 2. 3. 2.]\n",
            "Float elements only: [1.2 2.2]\n"
          ]
        }
      ]
    },
    {
      "cell_type": "markdown",
      "source": [
        "Q.4.\n",
        "(a)"
      ],
      "metadata": {
        "id": "YW4MXkLM-Ms8"
      }
    },
    {
      "cell_type": "code",
      "source": [
        "import numpy as np\n",
        "import cv2\n",
        "from PIL import Image\n",
        "import os\n",
        "\n",
        "def img_to_array(path):\n",
        "    # Open the image using OpenCV\n",
        "    img = cv2.imread(path)\n",
        "\n",
        "    # Check if the image is loaded properly\n",
        "    if img is None:\n",
        "        print(\"Error: Image not found or unable to load.\")\n",
        "        return None\n",
        "\n",
        "    # Convert the RGB image to grayscale using OpenCV\n",
        "    grayscale_image = cv2.cvtColor(img, cv2.COLOR_BGR2GRAY)\n",
        "\n",
        "    # Save the grayscale image array to a text file\n",
        "    np.savetxt(\"grayscale_image.txt\", grayscale_image, fmt='%d')\n",
        "    print(\"Grayscale image saved as grayscale_image.txt\")\n",
        "\n",
        "    # Return the original BGR image (OpenCV loads images as BGR)\n",
        "    return img\n",
        "\n",
        "# Store the path to the image in a variable\n",
        "image_path = 'C:\\example_image.png'\n",
        "\n",
        "# Call the function with the image path\n",
        "img_array = img_to_array(image_path)\n",
        "\n",
        "# Check if grayscale_image.txt was created and load it\n",
        "if os.path.exists(\"grayscale_image.txt\"):\n",
        "    # Load the grayscale image from the text file\n",
        "    grayscale_image = np.loadtxt(\"grayscale_image.txt\")\n",
        "    # Display the loaded grayscale image array\n",
        "    print(\"Loaded Grayscale Image Array:\")\n",
        "    print(grayscale_image)\n",
        "\n",
        "# Convert the OpenCV BGR image to RGB format (if you need the RGB channels)\n",
        "if img_array is not None and img_array.ndim == 3:\n",
        "    img_array_rgb = cv2.cvtColor(img_array, cv2.COLOR_BGR2RGB)\n",
        "\n",
        "    # Save each channel of the RGB image separately\n",
        "    for i in range(3):\n",
        "        np.savetxt(f\"rgb_image_channel_{i}.txt\", img_array_rgb[:, :, i], fmt='%d')\n",
        "    print(\"RGB image channels saved as rgb_image_channel_0.txt, rgb_image_channel_1.txt, rgb_image_channel_2.txt\")\n",
        "\n",
        "    # Load each channel of the RGB image from their respective text files\n",
        "    channel_0 = np.loadtxt(\"rgb_image_channel_0.txt\")\n",
        "    channel_1 = np.loadtxt(\"rgb_image_channel_1.txt\")\n",
        "    channel_2 = np.loadtxt(\"rgb_image_channel_2.txt\")\n",
        "\n",
        "    # Stack the channels to reconstruct the RGB image\n",
        "    rgb_image = np.stack([channel_0, channel_1, channel_2], axis=-1)\n",
        "\n",
        "    # Display the loaded RGB image array\n",
        "    print(\"Loaded RGB Image Array:\")\n",
        "    print(rgb_image)\n",
        "\n",
        "    # Optionally, you can convert the loaded RGB image to grayscale using numpy\n",
        "    grayscale_image_np = np.dot(rgb_image[..., :3], [0.2989, 0.5870, 0.1140])\n",
        "\n",
        "    print(\"Converted Grayscale Image Array (using numpy):\")\n",
        "    print(grayscale_image_np)"
      ],
      "metadata": {
        "colab": {
          "base_uri": "https://localhost:8080/"
        },
        "id": "AAWHuaQE-Q96",
        "outputId": "fe152a6e-8dff-4c75-fe4c-70625d02a66f"
      },
      "execution_count": 6,
      "outputs": [
        {
          "output_type": "stream",
          "name": "stdout",
          "text": [
            "Error: Image not found or unable to load.\n"
          ]
        }
      ]
    }
  ]
}